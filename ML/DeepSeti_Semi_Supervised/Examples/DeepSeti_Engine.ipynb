{
  "nbformat": 4,
  "nbformat_minor": 0,
  "metadata": {
    "colab": {
      "name": "DeepSeti_Engine",
      "provenance": []
    },
    "kernelspec": {
      "name": "python3",
      "display_name": "Python 3"
    },
    "accelerator": "GPU"
  },
  "cells": [
    {
      "cell_type": "code",
      "metadata": {
        "id": "78H2_nhvSzqk",
        "colab_type": "code",
        "outputId": "e9113932-c8f9-4ab9-c280-3b030d102e77",
        "colab": {
          "base_uri": "https://localhost:8080/",
          "height": 1000
        }
      },
      "source": [
        "!pip install blimpy \n",
        "!pip install setigen \n",
        "!git init \n",
        "!git remote add origin https://github.com/PetchMa/DeepSeti.git\n",
        "!git pull origin master\n",
        "!pip install wget\n",
        "!wget http://blpd13.ssl.berkeley.edu/dl/GBT_58402_66967_HIP66130_mid.h5"
      ],
      "execution_count": 1,
      "outputs": [
        {
          "output_type": "stream",
          "text": [
            "Collecting blimpy\n",
            "\u001b[?25l  Downloading https://files.pythonhosted.org/packages/34/76/87787620b09c93854be4afff2114dc123a82ad1e651b0be3277189026f09/blimpy-1.5.0-py3-none-any.whl (310kB)\n",
            "\r\u001b[K     |█                               | 10kB 32.7MB/s eta 0:00:01\r\u001b[K     |██▏                             | 20kB 39.0MB/s eta 0:00:01\r\u001b[K     |███▏                            | 30kB 28.3MB/s eta 0:00:01\r\u001b[K     |████▎                           | 40kB 32.5MB/s eta 0:00:01\r\u001b[K     |█████▎                          | 51kB 19.5MB/s eta 0:00:01\r\u001b[K     |██████▍                         | 61kB 18.0MB/s eta 0:00:01\r\u001b[K     |███████▍                        | 71kB 16.5MB/s eta 0:00:01\r\u001b[K     |████████▌                       | 81kB 17.2MB/s eta 0:00:01\r\u001b[K     |█████████▌                      | 92kB 17.5MB/s eta 0:00:01\r\u001b[K     |██████████▋                     | 102kB 16.6MB/s eta 0:00:01\r\u001b[K     |███████████▋                    | 112kB 16.6MB/s eta 0:00:01\r\u001b[K     |████████████▊                   | 122kB 16.6MB/s eta 0:00:01\r\u001b[K     |█████████████▊                  | 133kB 16.6MB/s eta 0:00:01\r\u001b[K     |██████████████▉                 | 143kB 16.6MB/s eta 0:00:01\r\u001b[K     |███████████████▉                | 153kB 16.6MB/s eta 0:00:01\r\u001b[K     |█████████████████               | 163kB 16.6MB/s eta 0:00:01\r\u001b[K     |██████████████████              | 174kB 16.6MB/s eta 0:00:01\r\u001b[K     |███████████████████             | 184kB 16.6MB/s eta 0:00:01\r\u001b[K     |████████████████████            | 194kB 16.6MB/s eta 0:00:01\r\u001b[K     |█████████████████████▏          | 204kB 16.6MB/s eta 0:00:01\r\u001b[K     |██████████████████████▏         | 215kB 16.6MB/s eta 0:00:01\r\u001b[K     |███████████████████████▎        | 225kB 16.6MB/s eta 0:00:01\r\u001b[K     |████████████████████████▎       | 235kB 16.6MB/s eta 0:00:01\r\u001b[K     |█████████████████████████▍      | 245kB 16.6MB/s eta 0:00:01\r\u001b[K     |██████████████████████████▍     | 256kB 16.6MB/s eta 0:00:01\r\u001b[K     |███████████████████████████▌    | 266kB 16.6MB/s eta 0:00:01\r\u001b[K     |████████████████████████████▌   | 276kB 16.6MB/s eta 0:00:01\r\u001b[K     |█████████████████████████████▋  | 286kB 16.6MB/s eta 0:00:01\r\u001b[K     |██████████████████████████████▋ | 296kB 16.6MB/s eta 0:00:01\r\u001b[K     |███████████████████████████████▊| 307kB 16.6MB/s eta 0:00:01\r\u001b[K     |████████████████████████████████| 317kB 16.6MB/s \n",
            "\u001b[?25hRequirement already satisfied: cython in /usr/local/lib/python3.6/dist-packages (from blimpy) (0.29.15)\n",
            "Requirement already satisfied: pandas in /usr/local/lib/python3.6/dist-packages (from blimpy) (0.25.3)\n",
            "Requirement already satisfied: numpy in /usr/local/lib/python3.6/dist-packages (from blimpy) (1.18.2)\n",
            "Requirement already satisfied: six in /usr/local/lib/python3.6/dist-packages (from blimpy) (1.12.0)\n",
            "Requirement already satisfied: matplotlib; python_version > \"2.7\" in /usr/local/lib/python3.6/dist-packages (from blimpy) (3.2.1)\n",
            "Requirement already satisfied: astropy; python_version > \"2.7\" in /usr/local/lib/python3.6/dist-packages (from blimpy) (4.0)\n",
            "Collecting hdf5plugin\n",
            "\u001b[?25l  Downloading https://files.pythonhosted.org/packages/01/cf/6fb97719b05fb41f3a03cdf90aecb0808250b55198dad50ff9f088bbd9aa/hdf5plugin-2.1.2-py2.py3-none-manylinux2014_x86_64.whl (3.4MB)\n",
            "\u001b[K     |████████████████████████████████| 3.4MB 40.0MB/s \n",
            "\u001b[?25hRequirement already satisfied: h5py in /usr/local/lib/python3.6/dist-packages (from blimpy) (2.10.0)\n",
            "Requirement already satisfied: scipy in /usr/local/lib/python3.6/dist-packages (from blimpy) (1.4.1)\n",
            "Requirement already satisfied: python-dateutil>=2.6.1 in /usr/local/lib/python3.6/dist-packages (from pandas->blimpy) (2.8.1)\n",
            "Requirement already satisfied: pytz>=2017.2 in /usr/local/lib/python3.6/dist-packages (from pandas->blimpy) (2018.9)\n",
            "Requirement already satisfied: kiwisolver>=1.0.1 in /usr/local/lib/python3.6/dist-packages (from matplotlib; python_version > \"2.7\"->blimpy) (1.1.0)\n",
            "Requirement already satisfied: pyparsing!=2.0.4,!=2.1.2,!=2.1.6,>=2.0.1 in /usr/local/lib/python3.6/dist-packages (from matplotlib; python_version > \"2.7\"->blimpy) (2.4.6)\n",
            "Requirement already satisfied: cycler>=0.10 in /usr/local/lib/python3.6/dist-packages (from matplotlib; python_version > \"2.7\"->blimpy) (0.10.0)\n",
            "Requirement already satisfied: setuptools in /usr/local/lib/python3.6/dist-packages (from kiwisolver>=1.0.1->matplotlib; python_version > \"2.7\"->blimpy) (46.0.0)\n",
            "Installing collected packages: hdf5plugin, blimpy\n",
            "Successfully installed blimpy-1.5.0 hdf5plugin-2.1.2\n",
            "Collecting setigen\n",
            "  Downloading https://files.pythonhosted.org/packages/ec/f3/d900fa84a80be7926caf1c86e437eb828e7a344a84edc1d55aa3fc10c3ce/setigen-1.2.3-py3-none-any.whl\n",
            "Requirement already satisfied: numpy>=1.18.1 in /usr/local/lib/python3.6/dist-packages (from setigen) (1.18.2)\n",
            "Collecting sphinx-rtd-theme==0.4.3\n",
            "\u001b[?25l  Downloading https://files.pythonhosted.org/packages/60/b4/4df37087a1d36755e3a3bfd2a30263f358d2dea21938240fa02313d45f51/sphinx_rtd_theme-0.4.3-py2.py3-none-any.whl (6.4MB)\n",
            "\u001b[K     |████████████████████████████████| 6.4MB 15.8MB/s \n",
            "\u001b[?25hRequirement already satisfied: blimpy>=1.4.2 in /usr/local/lib/python3.6/dist-packages (from setigen) (1.5.0)\n",
            "Requirement already satisfied: astropy>=4.0 in /usr/local/lib/python3.6/dist-packages (from setigen) (4.0)\n",
            "Requirement already satisfied: scipy>=1.4.1 in /usr/local/lib/python3.6/dist-packages (from setigen) (1.4.1)\n",
            "Requirement already satisfied: matplotlib>=3.1.3 in /usr/local/lib/python3.6/dist-packages (from setigen) (3.2.1)\n",
            "Requirement already satisfied: sphinx in /usr/local/lib/python3.6/dist-packages (from sphinx-rtd-theme==0.4.3->setigen) (1.8.5)\n",
            "Requirement already satisfied: pandas in /usr/local/lib/python3.6/dist-packages (from blimpy>=1.4.2->setigen) (0.25.3)\n",
            "Requirement already satisfied: h5py in /usr/local/lib/python3.6/dist-packages (from blimpy>=1.4.2->setigen) (2.10.0)\n",
            "Requirement already satisfied: six in /usr/local/lib/python3.6/dist-packages (from blimpy>=1.4.2->setigen) (1.12.0)\n",
            "Requirement already satisfied: cython in /usr/local/lib/python3.6/dist-packages (from blimpy>=1.4.2->setigen) (0.29.15)\n",
            "Requirement already satisfied: hdf5plugin in /usr/local/lib/python3.6/dist-packages (from blimpy>=1.4.2->setigen) (2.1.2)\n",
            "Requirement already satisfied: pyparsing!=2.0.4,!=2.1.2,!=2.1.6,>=2.0.1 in /usr/local/lib/python3.6/dist-packages (from matplotlib>=3.1.3->setigen) (2.4.6)\n",
            "Requirement already satisfied: kiwisolver>=1.0.1 in /usr/local/lib/python3.6/dist-packages (from matplotlib>=3.1.3->setigen) (1.1.0)\n",
            "Requirement already satisfied: cycler>=0.10 in /usr/local/lib/python3.6/dist-packages (from matplotlib>=3.1.3->setigen) (0.10.0)\n",
            "Requirement already satisfied: python-dateutil>=2.1 in /usr/local/lib/python3.6/dist-packages (from matplotlib>=3.1.3->setigen) (2.8.1)\n",
            "Requirement already satisfied: requests>=2.0.0 in /usr/local/lib/python3.6/dist-packages (from sphinx->sphinx-rtd-theme==0.4.3->setigen) (2.21.0)\n",
            "Requirement already satisfied: setuptools in /usr/local/lib/python3.6/dist-packages (from sphinx->sphinx-rtd-theme==0.4.3->setigen) (46.0.0)\n",
            "Requirement already satisfied: alabaster<0.8,>=0.7 in /usr/local/lib/python3.6/dist-packages (from sphinx->sphinx-rtd-theme==0.4.3->setigen) (0.7.12)\n",
            "Requirement already satisfied: snowballstemmer>=1.1 in /usr/local/lib/python3.6/dist-packages (from sphinx->sphinx-rtd-theme==0.4.3->setigen) (2.0.0)\n",
            "Requirement already satisfied: Pygments>=2.0 in /usr/local/lib/python3.6/dist-packages (from sphinx->sphinx-rtd-theme==0.4.3->setigen) (2.1.3)\n",
            "Requirement already satisfied: imagesize in /usr/local/lib/python3.6/dist-packages (from sphinx->sphinx-rtd-theme==0.4.3->setigen) (1.2.0)\n",
            "Requirement already satisfied: packaging in /usr/local/lib/python3.6/dist-packages (from sphinx->sphinx-rtd-theme==0.4.3->setigen) (20.3)\n",
            "Requirement already satisfied: Jinja2>=2.3 in /usr/local/lib/python3.6/dist-packages (from sphinx->sphinx-rtd-theme==0.4.3->setigen) (2.11.1)\n",
            "Requirement already satisfied: babel!=2.0,>=1.3 in /usr/local/lib/python3.6/dist-packages (from sphinx->sphinx-rtd-theme==0.4.3->setigen) (2.8.0)\n",
            "Requirement already satisfied: docutils>=0.11 in /usr/local/lib/python3.6/dist-packages (from sphinx->sphinx-rtd-theme==0.4.3->setigen) (0.15.2)\n",
            "Requirement already satisfied: sphinxcontrib-websupport in /usr/local/lib/python3.6/dist-packages (from sphinx->sphinx-rtd-theme==0.4.3->setigen) (1.2.1)\n",
            "Requirement already satisfied: pytz>=2017.2 in /usr/local/lib/python3.6/dist-packages (from pandas->blimpy>=1.4.2->setigen) (2018.9)\n",
            "Requirement already satisfied: urllib3<1.25,>=1.21.1 in /usr/local/lib/python3.6/dist-packages (from requests>=2.0.0->sphinx->sphinx-rtd-theme==0.4.3->setigen) (1.24.3)\n",
            "Requirement already satisfied: certifi>=2017.4.17 in /usr/local/lib/python3.6/dist-packages (from requests>=2.0.0->sphinx->sphinx-rtd-theme==0.4.3->setigen) (2019.11.28)\n",
            "Requirement already satisfied: chardet<3.1.0,>=3.0.2 in /usr/local/lib/python3.6/dist-packages (from requests>=2.0.0->sphinx->sphinx-rtd-theme==0.4.3->setigen) (3.0.4)\n",
            "Requirement already satisfied: idna<2.9,>=2.5 in /usr/local/lib/python3.6/dist-packages (from requests>=2.0.0->sphinx->sphinx-rtd-theme==0.4.3->setigen) (2.8)\n",
            "Requirement already satisfied: MarkupSafe>=0.23 in /usr/local/lib/python3.6/dist-packages (from Jinja2>=2.3->sphinx->sphinx-rtd-theme==0.4.3->setigen) (1.1.1)\n",
            "Installing collected packages: sphinx-rtd-theme, setigen\n",
            "Successfully installed setigen-1.2.3 sphinx-rtd-theme-0.4.3\n",
            "Initialized empty Git repository in /content/.git/\n",
            "remote: Enumerating objects: 242, done.\u001b[K\n",
            "remote: Counting objects: 100% (242/242), done.\u001b[K\n",
            "remote: Compressing objects: 100% (186/186), done.\u001b[K\n",
            "remote: Total 242 (delta 108), reused 164 (delta 51), pack-reused 0\u001b[K\n",
            "Receiving objects: 100% (242/242), 7.77 MiB | 24.55 MiB/s, done.\n",
            "Resolving deltas: 100% (108/108), done.\n",
            "From https://github.com/PetchMa/DeepSeti\n",
            " * branch            master     -> FETCH_HEAD\n",
            " * [new branch]      master     -> origin/master\n",
            "Collecting wget\n",
            "  Downloading https://files.pythonhosted.org/packages/47/6a/62e288da7bcda82b935ff0c6cfe542970f04e29c756b0e147251b2fb251f/wget-3.2.zip\n",
            "Building wheels for collected packages: wget\n",
            "  Building wheel for wget (setup.py) ... \u001b[?25l\u001b[?25hdone\n",
            "  Created wheel for wget: filename=wget-3.2-cp36-none-any.whl size=9682 sha256=cc138044b0dce751d7ab4a5671e293d2284581ae0a68800c5eb54a20329b61a1\n",
            "  Stored in directory: /root/.cache/pip/wheels/40/15/30/7d8f7cea2902b4db79e3fea550d7d7b85ecb27ef992b618f3f\n",
            "Successfully built wget\n",
            "Installing collected packages: wget\n",
            "Successfully installed wget-3.2\n",
            "--2020-03-26 21:58:42--  http://blpd13.ssl.berkeley.edu/dl/GBT_58402_66967_HIP66130_mid.h5\n",
            "Resolving blpd13.ssl.berkeley.edu (blpd13.ssl.berkeley.edu)... 208.68.240.55\n",
            "Connecting to blpd13.ssl.berkeley.edu (blpd13.ssl.berkeley.edu)|208.68.240.55|:80... connected.\n",
            "HTTP request sent, awaiting response... 200 OK\n",
            "Length: 242521272 (231M) [application/octet-stream]\n",
            "Saving to: ‘GBT_58402_66967_HIP66130_mid.h5’\n",
            "\n",
            "GBT_58402_66967_HIP 100%[===================>] 231.29M   112MB/s    in 2.1s    \n",
            "\n",
            "2020-03-26 21:58:45 (112 MB/s) - ‘GBT_58402_66967_HIP66130_mid.h5’ saved [242521272/242521272]\n",
            "\n"
          ],
          "name": "stdout"
        }
      ]
    },
    {
      "cell_type": "code",
      "metadata": {
        "id": "7CRTMTfgbBd5",
        "colab_type": "code",
        "outputId": "a06dce57-723b-47e2-c80e-ea0cffbd06df",
        "colab": {
          "base_uri": "https://localhost:8080/",
          "height": 202
        }
      },
      "source": [
        "from google.colab import drive\n",
        "import wget\n",
        "drive.mount('/content/drive/')\n",
        "import pandas as pd\n",
        "import requests\n",
        "from DeepSeti import DeepSeti\n",
        "\n",
        "\n",
        "data = pd.read_csv (r'/content/drive/My Drive/Deeplearning/SETI/database.csv')\n",
        "data.columns = ['id', 'project', 'time', 'target_name', 'ra', 'decl', 'center_freq', 'file_type', 'size', 'md5sum', 'url']\n",
        "\n",
        "data = data.loc[data['project'] == 'GBT']\n",
        "data = data.loc[data['file_type'] == 'HDF5']\n",
        "data.to_csv('database_gbt_h5.CSV', sep=',')\n",
        "\n",
        "data_numpy = data.values[:,1:]\n",
        "\n",
        "links_list =[]\n",
        "for i in range(0,data_numpy.shape[0]): \n",
        "  string = data_numpy[i,9]\n",
        "  string = string.replace('fine.h5','mid.h5')\n",
        "  string = string.replace('time.h5','mid.h5')\n",
        "  links_list.append(string)\n",
        "short_list = []\n",
        "\n",
        "for k in range(0,int(len(links_list)/3)):\n",
        "  short_list.append(links_list[k*3])"
      ],
      "execution_count": 2,
      "outputs": [
        {
          "output_type": "stream",
          "text": [
            "Go to this URL in a browser: https://accounts.google.com/o/oauth2/auth?client_id=947318989803-6bn6qk8qdgf4n4g3pfee6491hc0brc4i.apps.googleusercontent.com&redirect_uri=urn%3aietf%3awg%3aoauth%3a2.0%3aoob&response_type=code&scope=email%20https%3a%2f%2fwww.googleapis.com%2fauth%2fdocs.test%20https%3a%2f%2fwww.googleapis.com%2fauth%2fdrive%20https%3a%2f%2fwww.googleapis.com%2fauth%2fdrive.photos.readonly%20https%3a%2f%2fwww.googleapis.com%2fauth%2fpeopleapi.readonly\n",
            "\n",
            "Enter your authorization code:\n",
            "··········\n",
            "Mounted at /content/drive/\n"
          ],
          "name": "stdout"
        },
        {
          "output_type": "stream",
          "text": [
            "Using TensorFlow backend.\n"
          ],
          "name": "stderr"
        },
        {
          "output_type": "display_data",
          "data": {
            "text/html": [
              "<p style=\"color: red;\">\n",
              "The default version of TensorFlow in Colab will switch to TensorFlow 2.x on the 27th of March, 2020.<br>\n",
              "We recommend you <a href=\"https://www.tensorflow.org/guide/migrate\" target=\"_blank\">upgrade</a> now\n",
              "or ensure your notebook will continue to use TensorFlow 1.x via the <code>%tensorflow_version 1.x</code> magic:\n",
              "<a href=\"https://colab.research.google.com/notebooks/tensorflow_version.ipynb\" target=\"_blank\">more info</a>.</p>\n"
            ],
            "text/plain": [
              "<IPython.core.display.HTML object>"
            ]
          },
          "metadata": {
            "tags": []
          }
        }
      ]
    },
    {
      "cell_type": "code",
      "metadata": {
        "id": "XWL7OahUTAvC",
        "colab_type": "code",
        "outputId": "20b71ed6-3770-4525-ce51-c55b96045d5c",
        "colab": {
          "base_uri": "https://localhost:8080/",
          "height": 462
        }
      },
      "source": [
        "import os \n",
        "from DeepSeti import DeepSeti\n",
        "\n",
        "DeepSeti = DeepSeti()\n",
        "\n",
        "for i in range(100,200):\n",
        "  try:\n",
        "    print(\"Downloading \"+ str(i))\n",
        "    file_download = wget.download(short_list[i])\n",
        "    print(file_download)\n",
        "    print(\"finished downloading\")\n",
        "    DeepSeti.prediction(model_location='/content/encoder_injected_model_Cudda.h5', \n",
        "                    test_location='/content/'+file_download, \n",
        "                    anchor_location='/content/GBT_58402_66967_HIP66130_mid.h5', \n",
        "                    top_hits=1, target_name=file_download,\n",
        "                    output_folder='/content/drive/My Drive/Deeplearning/SETI/output_folder/')\n",
        "    os.remove('/content/'+file_download)\n",
        "    print(\"Search Execution Complete\")\n",
        "  except:\n",
        "    try:\n",
        "      os.remove('/content/'+short_list[i].replace('http://blpd7.ssl.berkeley.edu/dl2/', ''))\n",
        "    except:\n",
        "      print(\"Execution stack cleanered\")\n",
        "    print(\"Dataset \"+ short_list[i].replace('http://blpd7.ssl.berkeley.edu/dl2/', '')+\" doesn't exist --------- skipped!\")"
      ],
      "execution_count": 0,
      "outputs": [
        {
          "output_type": "stream",
          "text": [
            "Downloading 100\n",
            "GBT_57635_35657_GJ144_mid.h5\n",
            "finished downloading\n",
            "single Data load Execution: 0.9923303127288818 Sec\n",
            "single Data load Execution: 1.3027942180633545 Sec\n"
          ],
          "name": "stdout"
        },
        {
          "output_type": "stream",
          "text": [
            "/usr/local/lib/python3.6/dist-packages/keras/engine/saving.py:310: UserWarning: No training configuration found in save file: the model was *not* compiled. Compile it manually.\n",
            "  warnings.warn('No training configuration found in save file: '\n",
            "/content/DeepSeti.py:60: RuntimeWarning: More than 20 figures have been opened. Figures created through the pyplot interface (`matplotlib.pyplot.figure`) are retained until explicitly closed and may consume too much memory. (To control this warning, see the rcParam `figure.max_open_warning`).\n",
            "  fig = plt.figure(figsize=(20, 6))\n",
            "/content/DeepSeti.py:66: RuntimeWarning: More than 20 figures have been opened. Figures created through the pyplot interface (`matplotlib.pyplot.figure`) are retained until explicitly closed and may consume too much memory. (To control this warning, see the rcParam `figure.max_open_warning`).\n",
            "  fig = plt.figure(figsize=(10, 6))\n"
          ],
          "name": "stderr"
        },
        {
          "output_type": "stream",
          "text": [
            "Search Execution Complete\n",
            "Downloading 101\n",
            "GBT_57635_36340_GJ144_mid.h5\n",
            "finished downloading\n",
            "single Data load Execution: 1.1108627319335938 Sec\n",
            "single Data load Execution: 1.0690460205078125 Sec\n"
          ],
          "name": "stdout"
        },
        {
          "output_type": "stream",
          "text": [
            "/usr/local/lib/python3.6/dist-packages/keras/engine/saving.py:310: UserWarning: No training configuration found in save file: the model was *not* compiled. Compile it manually.\n",
            "  warnings.warn('No training configuration found in save file: '\n",
            "/content/DeepSeti.py:60: RuntimeWarning: More than 20 figures have been opened. Figures created through the pyplot interface (`matplotlib.pyplot.figure`) are retained until explicitly closed and may consume too much memory. (To control this warning, see the rcParam `figure.max_open_warning`).\n",
            "  fig = plt.figure(figsize=(20, 6))\n",
            "/content/DeepSeti.py:66: RuntimeWarning: More than 20 figures have been opened. Figures created through the pyplot interface (`matplotlib.pyplot.figure`) are retained until explicitly closed and may consume too much memory. (To control this warning, see the rcParam `figure.max_open_warning`).\n",
            "  fig = plt.figure(figsize=(10, 6))\n"
          ],
          "name": "stderr"
        },
        {
          "output_type": "stream",
          "text": [
            "Search Execution Complete\n",
            "Downloading 102\n"
          ],
          "name": "stdout"
        }
      ]
    }
  ]
}