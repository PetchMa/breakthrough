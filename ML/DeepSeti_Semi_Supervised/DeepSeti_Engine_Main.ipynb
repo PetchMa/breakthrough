{
  "nbformat": 4,
  "nbformat_minor": 0,
  "metadata": {
    "colab": {
      "name": "DeepSeti_Engine_Main",
      "provenance": [],
      "collapsed_sections": [],
      "mount_file_id": "1kFBY1LTPaBXAfIa5wIYCswGwucXpqT30",
      "authorship_tag": "ABX9TyNOZxsPzXeofwyUWw2tBN6p",
      "include_colab_link": true
    },
    "kernelspec": {
      "name": "python3",
      "display_name": "Python 3"
    },
    "accelerator": "GPU"
  },
  "cells": [
    {
      "cell_type": "markdown",
      "metadata": {
        "id": "view-in-github",
        "colab_type": "text"
      },
      "source": [
        "<a href=\"https://colab.research.google.com/github/PetchMa/DeepSeti/blob/master/DeepSeti_Engine_Main.ipynb\" target=\"_parent\"><img src=\"https://colab.research.google.com/assets/colab-badge.svg\" alt=\"Open In Colab\"/></a>"
      ]
    },
    {
      "cell_type": "code",
      "metadata": {
        "id": "9SEJemZBehaM",
        "colab_type": "code",
        "colab": {}
      },
      "source": [
        "search_index_start= 200\n",
        "search_index_end = 100"
      ],
      "execution_count": 0,
      "outputs": []
    },
    {
      "cell_type": "code",
      "metadata": {
        "id": "7CRTMTfgbBd5",
        "colab_type": "code",
        "outputId": "9e43983d-71de-4fb4-dd1c-170b52a60a49",
        "colab": {
          "base_uri": "https://localhost:8080/",
          "height": 68
        }
      },
      "source": [
        "!pip install blimpy \n",
        "!pip install setigen \n",
        "!git init \n",
        "!git remote add origin https://github.com/PetchMa/DeepSeti.git\n",
        "!git pull origin master\n",
        "!pip install wget\n",
        "!wget http://blpd13.ssl.berkeley.edu/dl/GBT_58402_66967_HIP66130_mid.h5\n",
        "%tensorflow_version 1.x\n",
        "import tensorflow\n",
        "print(tensorflow.__version__)\n",
        "import wget\n",
        "import pandas as pd\n",
        "import requests\n",
        "\n",
        "data = pd.read_csv (r'/content/drive/My Drive/Deeplearning/SETI/database.csv')\n",
        "data.columns = ['id', 'project', 'time', 'target_name', 'ra', 'decl', 'center_freq', 'file_type', 'size', 'md5sum', 'url']\n",
        "\n",
        "data = data.loc[data['project'] == 'GBT']\n",
        "data = data.loc[data['file_type'] == 'HDF5']\n",
        "data.to_csv('database_gbt_h5.CSV', sep=',')\n",
        "\n",
        "data_numpy = data.values[:,1:]\n",
        "\n",
        "links_list =[]\n",
        "for i in range(0,data_numpy.shape[0]): \n",
        "  string = data_numpy[i,9]\n",
        "  string = string.replace('fine.h5','mid.h5')\n",
        "  string = string.replace('time.h5','mid.h5')\n",
        "  links_list.append(string)\n",
        "short_list = []\n",
        "\n",
        "for k in range(0,int(len(links_list)/3)):\n",
        "  short_list.append(links_list[k*3])\n",
        "\n",
        "print(len(short_list))"
      ],
      "execution_count": 0,
      "outputs": [
        {
          "output_type": "stream",
          "text": [
            "TensorFlow 1.x selected.\n",
            "1.15.2\n",
            "15271\n"
          ],
          "name": "stdout"
        }
      ]
    },
    {
      "cell_type": "code",
      "metadata": {
        "id": "XWL7OahUTAvC",
        "colab_type": "code",
        "outputId": "392c6862-435a-468c-acdc-82b28f3763a9",
        "colab": {
          "base_uri": "https://localhost:8080/",
          "height": 1000
        }
      },
      "source": [
        "import os \n",
        "import time\n",
        "from DeepSeti import DeepSeti\n",
        "\n",
        "DeepSeti = DeepSeti()\n",
        "DeepSeti.load_model_function(model_location='/content/encoder_injected_model_Cudda.h5')\n",
        "start = time.time()\n",
        "print(\"Model Loaded... Executing search loop\")\n",
        "for i in range(search_index_start,len(short_list)):\n",
        "  try:\n",
        "    print(\"Downloading \"+ str(i))\n",
        "    file_download = wget.download(short_list[i])\n",
        "    print(file_download)\n",
        "    print(\"finished downloading\")\n",
        "    DeepSeti.prediction(test_location='/content/'+file_download, \n",
        "                    anchor_location='/content/GBT_58402_66967_HIP66130_mid.h5', \n",
        "                    top_hits=1, target_name=file_download,\n",
        "                    output_folder='/content/drive/My Drive/Deeplearning/SETI/output_folder/')\n",
        "    os.remove('/content/'+file_download)\n",
        "    print(\"Search Execution Complete\")\n",
        "    elapsed_time = time.time()-start\n",
        "    print(\"Time since execution began [Seconds]: \"+ str(elapsed_time))\n",
        "  except:\n",
        "    try:\n",
        "      os.remove('/content/'+short_list[i].replace('http://blpd7.ssl.berkeley.edu/dl2/', ''))\n",
        "    except:\n",
        "      print(\"Execution stack cleanered\")\n",
        "    print(\"Dataset \"+ short_list[i].replace('http://blpd7.ssl.berkeley.edu/dl2/', '')+\" doesn't exist --------- skipped!\")"
      ],
      "execution_count": 0,
      "outputs": [
        {
          "output_type": "stream",
          "text": [
            "Using TensorFlow backend.\n"
          ],
          "name": "stderr"
        },
        {
          "output_type": "stream",
          "text": [
            "WARNING:tensorflow:From /usr/local/lib/python3.6/dist-packages/keras/backend/tensorflow_backend.py:541: The name tf.placeholder is deprecated. Please use tf.compat.v1.placeholder instead.\n",
            "\n",
            "tensorflow      WARNING  From /usr/local/lib/python3.6/dist-packages/keras/backend/tensorflow_backend.py:541: The name tf.placeholder is deprecated. Please use tf.compat.v1.placeholder instead.\n",
            "\n",
            "WARNING:tensorflow:From /usr/local/lib/python3.6/dist-packages/keras/backend/tensorflow_backend.py:4479: The name tf.truncated_normal is deprecated. Please use tf.random.truncated_normal instead.\n",
            "\n",
            "tensorflow      WARNING  From /usr/local/lib/python3.6/dist-packages/keras/backend/tensorflow_backend.py:4479: The name tf.truncated_normal is deprecated. Please use tf.random.truncated_normal instead.\n",
            "\n",
            "WARNING:tensorflow:From /usr/local/lib/python3.6/dist-packages/keras/backend/tensorflow_backend.py:66: The name tf.get_default_graph is deprecated. Please use tf.compat.v1.get_default_graph instead.\n",
            "\n",
            "tensorflow      WARNING  From /usr/local/lib/python3.6/dist-packages/keras/backend/tensorflow_backend.py:66: The name tf.get_default_graph is deprecated. Please use tf.compat.v1.get_default_graph instead.\n",
            "\n",
            "WARNING:tensorflow:From /usr/local/lib/python3.6/dist-packages/keras/backend/tensorflow_backend.py:190: The name tf.get_default_session is deprecated. Please use tf.compat.v1.get_default_session instead.\n",
            "\n",
            "tensorflow      WARNING  From /usr/local/lib/python3.6/dist-packages/keras/backend/tensorflow_backend.py:190: The name tf.get_default_session is deprecated. Please use tf.compat.v1.get_default_session instead.\n",
            "\n",
            "WARNING:tensorflow:From /usr/local/lib/python3.6/dist-packages/keras/backend/tensorflow_backend.py:197: The name tf.ConfigProto is deprecated. Please use tf.compat.v1.ConfigProto instead.\n",
            "\n",
            "tensorflow      WARNING  From /usr/local/lib/python3.6/dist-packages/keras/backend/tensorflow_backend.py:197: The name tf.ConfigProto is deprecated. Please use tf.compat.v1.ConfigProto instead.\n",
            "\n",
            "WARNING:tensorflow:From /usr/local/lib/python3.6/dist-packages/keras/backend/tensorflow_backend.py:203: The name tf.Session is deprecated. Please use tf.compat.v1.Session instead.\n",
            "\n",
            "tensorflow      WARNING  From /usr/local/lib/python3.6/dist-packages/keras/backend/tensorflow_backend.py:203: The name tf.Session is deprecated. Please use tf.compat.v1.Session instead.\n",
            "\n",
            "WARNING:tensorflow:From /usr/local/lib/python3.6/dist-packages/keras/backend/tensorflow_backend.py:207: The name tf.global_variables is deprecated. Please use tf.compat.v1.global_variables instead.\n",
            "\n",
            "tensorflow      WARNING  From /usr/local/lib/python3.6/dist-packages/keras/backend/tensorflow_backend.py:207: The name tf.global_variables is deprecated. Please use tf.compat.v1.global_variables instead.\n",
            "\n",
            "WARNING:tensorflow:From /usr/local/lib/python3.6/dist-packages/keras/backend/tensorflow_backend.py:216: The name tf.is_variable_initialized is deprecated. Please use tf.compat.v1.is_variable_initialized instead.\n",
            "\n",
            "tensorflow      WARNING  From /usr/local/lib/python3.6/dist-packages/keras/backend/tensorflow_backend.py:216: The name tf.is_variable_initialized is deprecated. Please use tf.compat.v1.is_variable_initialized instead.\n",
            "\n",
            "WARNING:tensorflow:From /usr/local/lib/python3.6/dist-packages/keras/backend/tensorflow_backend.py:223: The name tf.variables_initializer is deprecated. Please use tf.compat.v1.variables_initializer instead.\n",
            "\n",
            "tensorflow      WARNING  From /usr/local/lib/python3.6/dist-packages/keras/backend/tensorflow_backend.py:223: The name tf.variables_initializer is deprecated. Please use tf.compat.v1.variables_initializer instead.\n",
            "\n",
            "WARNING:tensorflow:From /usr/local/lib/python3.6/dist-packages/keras/backend/tensorflow_backend.py:2041: The name tf.nn.fused_batch_norm is deprecated. Please use tf.compat.v1.nn.fused_batch_norm instead.\n",
            "\n",
            "tensorflow      WARNING  From /usr/local/lib/python3.6/dist-packages/keras/backend/tensorflow_backend.py:2041: The name tf.nn.fused_batch_norm is deprecated. Please use tf.compat.v1.nn.fused_batch_norm instead.\n",
            "\n",
            "WARNING:tensorflow:From /usr/local/lib/python3.6/dist-packages/keras/backend/tensorflow_backend.py:148: The name tf.placeholder_with_default is deprecated. Please use tf.compat.v1.placeholder_with_default instead.\n",
            "\n",
            "tensorflow      WARNING  From /usr/local/lib/python3.6/dist-packages/keras/backend/tensorflow_backend.py:148: The name tf.placeholder_with_default is deprecated. Please use tf.compat.v1.placeholder_with_default instead.\n",
            "\n",
            "WARNING:tensorflow:From /usr/local/lib/python3.6/dist-packages/keras/backend/tensorflow_backend.py:4432: The name tf.random_uniform is deprecated. Please use tf.random.uniform instead.\n",
            "\n",
            "tensorflow      WARNING  From /usr/local/lib/python3.6/dist-packages/keras/backend/tensorflow_backend.py:4432: The name tf.random_uniform is deprecated. Please use tf.random.uniform instead.\n",
            "\n"
          ],
          "name": "stdout"
        },
        {
          "output_type": "stream",
          "text": [
            "/usr/local/lib/python3.6/dist-packages/keras/engine/saving.py:310: UserWarning: No training configuration found in save file: the model was *not* compiled. Compile it manually.\n",
            "  warnings.warn('No training configuration found in save file: '\n"
          ],
          "name": "stderr"
        },
        {
          "output_type": "stream",
          "text": [
            "Model Loaded... Executing search loop\n",
            "Downloading 0\n",
            "GBT_57532_09539_HIP56445_mid.h5\n",
            "finished downloading\n",
            "single Data load Execution: 1.3595201969146729 Sec\n",
            "single Data load Execution: 1.1879494190216064 Sec\n",
            "Search time [s]:17.583831310272217\n",
            "Search Execution Complete\n",
            "Time since execution began [Seconds]: 50.58297657966614\n",
            "Downloading 1\n",
            "GBT_57532_09882_HIP55575_mid.h5\n",
            "finished downloading\n",
            "single Data load Execution: 1.2559597492218018 Sec\n",
            "single Data load Execution: 1.1364717483520508 Sec\n",
            "Search time [s]:15.99070405960083\n",
            "Search Execution Complete\n",
            "Time since execution began [Seconds]: 99.6911416053772\n",
            "Downloading 2\n",
            "GBT_57544_60698_HIP11993_mid.h5\n",
            "finished downloading\n",
            "single Data load Execution: 0.9223792552947998 Sec\n",
            "single Data load Execution: 0.9822969436645508 Sec\n",
            "Search time [s]:16.396008729934692\n",
            "Search Execution Complete\n",
            "Time since execution began [Seconds]: 148.5324263572693\n",
            "Downloading 3\n",
            "GBT_57578_74114_HIP35136_mid.h5\n",
            "finished downloading\n",
            "single Data load Execution: 0.915043830871582 Sec\n",
            "single Data load Execution: 0.9024922847747803 Sec\n",
            "Search time [s]:15.882429838180542\n",
            "Search Execution Complete\n",
            "Time since execution began [Seconds]: 182.37421941757202\n",
            "Downloading 4\n",
            "GBT_57620_41924_HIP20917_mid.h5\n",
            "finished downloading\n",
            "single Data load Execution: 0.937161922454834 Sec\n",
            "single Data load Execution: 0.9597728252410889 Sec\n",
            "Search time [s]:16.16063094139099\n",
            "Search Execution Complete\n",
            "Time since execution began [Seconds]: 214.18477606773376\n",
            "Downloading 5\n",
            "GBT_57622_25363_HIP107346_mid.h5\n",
            "finished downloading\n",
            "single Data load Execution: 0.8893132209777832 Sec\n",
            "single Data load Execution: 0.890723466873169 Sec\n",
            "Search time [s]:15.968968629837036\n",
            "Search Execution Complete\n",
            "Time since execution began [Seconds]: 261.7287230491638\n",
            "Downloading 6\n",
            "GBT_57622_25714_HIP106396_mid.h5\n",
            "finished downloading\n",
            "single Data load Execution: 0.9252593517303467 Sec\n",
            "single Data load Execution: 0.9731392860412598 Sec\n",
            "Search time [s]:16.107224464416504\n",
            "Search Execution Complete\n",
            "Time since execution began [Seconds]: 308.4546809196472\n",
            "Downloading 7\n",
            "GBT_57622_26064_HIP107346_mid.h5\n",
            "finished downloading\n",
            "single Data load Execution: 0.8998231887817383 Sec\n",
            "single Data load Execution: 0.9172470569610596 Sec\n",
            "Search time [s]:16.086759567260742\n",
            "Search Execution Complete\n",
            "Time since execution began [Seconds]: 356.1647126674652\n",
            "Downloading 8\n",
            "GBT_57622_26402_HIP106435_mid.h5\n",
            "finished downloading\n",
            "single Data load Execution: 0.9311647415161133 Sec\n",
            "single Data load Execution: 0.9644472599029541 Sec\n",
            "Search time [s]:16.227166652679443\n",
            "Search Execution Complete\n",
            "Time since execution began [Seconds]: 403.20338463783264\n",
            "Downloading 9\n",
            "GBT_57622_26741_HIP108092_mid.h5\n",
            "finished downloading\n",
            "single Data load Execution: 0.8995342254638672 Sec\n",
            "single Data load Execution: 0.9119160175323486 Sec\n",
            "Search time [s]:15.8474862575531\n",
            "Search Execution Complete\n",
            "Time since execution began [Seconds]: 434.0634033679962\n",
            "Downloading 10\n",
            "GBT_57622_27087_HIP106970_mid.h5\n",
            "finished downloading\n",
            "single Data load Execution: 0.9311254024505615 Sec\n",
            "single Data load Execution: 0.9577212333679199 Sec\n"
          ],
          "name": "stdout"
        },
        {
          "output_type": "stream",
          "text": [
            "/content/DeepSeti.py:73: RuntimeWarning: More than 20 figures have been opened. Figures created through the pyplot interface (`matplotlib.pyplot.figure`) are retained until explicitly closed and may consume too much memory. (To control this warning, see the rcParam `figure.max_open_warning`).\n",
            "  fig = plt.figure(figsize=(20, 6))\n",
            "/content/DeepSeti.py:79: RuntimeWarning: More than 20 figures have been opened. Figures created through the pyplot interface (`matplotlib.pyplot.figure`) are retained until explicitly closed and may consume too much memory. (To control this warning, see the rcParam `figure.max_open_warning`).\n",
            "  fig = plt.figure(figsize=(10, 6))\n"
          ],
          "name": "stderr"
        },
        {
          "output_type": "stream",
          "text": [
            "Search time [s]:16.14170265197754\n",
            "Search Execution Complete\n",
            "Time since execution began [Seconds]: 482.53205251693726\n",
            "Downloading 11\n",
            "GBT_57622_27432_HIP108092_mid.h5\n",
            "finished downloading\n",
            "single Data load Execution: 0.8983018398284912 Sec\n",
            "single Data load Execution: 0.9066016674041748 Sec\n"
          ],
          "name": "stdout"
        },
        {
          "output_type": "stream",
          "text": [
            "/content/DeepSeti.py:73: RuntimeWarning: More than 20 figures have been opened. Figures created through the pyplot interface (`matplotlib.pyplot.figure`) are retained until explicitly closed and may consume too much memory. (To control this warning, see the rcParam `figure.max_open_warning`).\n",
            "  fig = plt.figure(figsize=(20, 6))\n",
            "/content/DeepSeti.py:79: RuntimeWarning: More than 20 figures have been opened. Figures created through the pyplot interface (`matplotlib.pyplot.figure`) are retained until explicitly closed and may consume too much memory. (To control this warning, see the rcParam `figure.max_open_warning`).\n",
            "  fig = plt.figure(figsize=(10, 6))\n"
          ],
          "name": "stderr"
        },
        {
          "output_type": "stream",
          "text": [
            "Search time [s]:15.868466138839722\n",
            "Search Execution Complete\n",
            "Time since execution began [Seconds]: 514.350647687912\n",
            "Downloading 12\n",
            "GBT_57622_27772_HIP107156_mid.h5\n",
            "finished downloading\n",
            "single Data load Execution: 0.9246337413787842 Sec\n",
            "single Data load Execution: 0.9523262977600098 Sec\n"
          ],
          "name": "stdout"
        },
        {
          "output_type": "stream",
          "text": [
            "/content/DeepSeti.py:73: RuntimeWarning: More than 20 figures have been opened. Figures created through the pyplot interface (`matplotlib.pyplot.figure`) are retained until explicitly closed and may consume too much memory. (To control this warning, see the rcParam `figure.max_open_warning`).\n",
            "  fig = plt.figure(figsize=(20, 6))\n",
            "/content/DeepSeti.py:79: RuntimeWarning: More than 20 figures have been opened. Figures created through the pyplot interface (`matplotlib.pyplot.figure`) are retained until explicitly closed and may consume too much memory. (To control this warning, see the rcParam `figure.max_open_warning`).\n",
            "  fig = plt.figure(figsize=(10, 6))\n"
          ],
          "name": "stderr"
        },
        {
          "output_type": "stream",
          "text": [
            "Search time [s]:15.958118915557861\n",
            "Search Execution Complete\n",
            "Time since execution began [Seconds]: 547.2016575336456\n",
            "Downloading 13\n",
            "GBT_57622_28112_HIP108092_mid.h5\n",
            "finished downloading\n",
            "single Data load Execution: 0.8956375122070312 Sec\n",
            "single Data load Execution: 0.8926362991333008 Sec\n"
          ],
          "name": "stdout"
        },
        {
          "output_type": "stream",
          "text": [
            "/content/DeepSeti.py:73: RuntimeWarning: More than 20 figures have been opened. Figures created through the pyplot interface (`matplotlib.pyplot.figure`) are retained until explicitly closed and may consume too much memory. (To control this warning, see the rcParam `figure.max_open_warning`).\n",
            "  fig = plt.figure(figsize=(20, 6))\n",
            "/content/DeepSeti.py:79: RuntimeWarning: More than 20 figures have been opened. Figures created through the pyplot interface (`matplotlib.pyplot.figure`) are retained until explicitly closed and may consume too much memory. (To control this warning, see the rcParam `figure.max_open_warning`).\n",
            "  fig = plt.figure(figsize=(10, 6))\n"
          ],
          "name": "stderr"
        },
        {
          "output_type": "stream",
          "text": [
            "Search time [s]:16.009214401245117\n",
            "Search Execution Complete\n",
            "Time since execution began [Seconds]: 595.645742893219\n",
            "Downloading 14\n",
            "GBT_57622_28459_HIP107468_mid.h5\n",
            "finished downloading\n",
            "single Data load Execution: 0.9211695194244385 Sec\n",
            "single Data load Execution: 0.9395880699157715 Sec\n"
          ],
          "name": "stdout"
        },
        {
          "output_type": "stream",
          "text": [
            "/content/DeepSeti.py:73: RuntimeWarning: More than 20 figures have been opened. Figures created through the pyplot interface (`matplotlib.pyplot.figure`) are retained until explicitly closed and may consume too much memory. (To control this warning, see the rcParam `figure.max_open_warning`).\n",
            "  fig = plt.figure(figsize=(20, 6))\n",
            "/content/DeepSeti.py:79: RuntimeWarning: More than 20 figures have been opened. Figures created through the pyplot interface (`matplotlib.pyplot.figure`) are retained until explicitly closed and may consume too much memory. (To control this warning, see the rcParam `figure.max_open_warning`).\n",
            "  fig = plt.figure(figsize=(10, 6))\n"
          ],
          "name": "stderr"
        },
        {
          "output_type": "stream",
          "text": [
            "Search time [s]:15.92856216430664\n",
            "Search Execution Complete\n",
            "Time since execution began [Seconds]: 642.874903678894\n",
            "Downloading 15\n",
            "GBT_57622_28853_HIP114622_mid.h5\n",
            "finished downloading\n",
            "single Data load Execution: 0.9046874046325684 Sec\n",
            "single Data load Execution: 0.9003012180328369 Sec\n"
          ],
          "name": "stdout"
        },
        {
          "output_type": "stream",
          "text": [
            "/content/DeepSeti.py:73: RuntimeWarning: More than 20 figures have been opened. Figures created through the pyplot interface (`matplotlib.pyplot.figure`) are retained until explicitly closed and may consume too much memory. (To control this warning, see the rcParam `figure.max_open_warning`).\n",
            "  fig = plt.figure(figsize=(20, 6))\n",
            "/content/DeepSeti.py:79: RuntimeWarning: More than 20 figures have been opened. Figures created through the pyplot interface (`matplotlib.pyplot.figure`) are retained until explicitly closed and may consume too much memory. (To control this warning, see the rcParam `figure.max_open_warning`).\n",
            "  fig = plt.figure(figsize=(10, 6))\n"
          ],
          "name": "stderr"
        },
        {
          "output_type": "stream",
          "text": [
            "Search time [s]:15.85268783569336\n",
            "Search Execution Complete\n",
            "Time since execution began [Seconds]: 690.3020644187927\n",
            "Downloading 16\n",
            "GBT_57622_29190_HIP113498_mid.h5\n",
            "finished downloading\n",
            "single Data load Execution: 0.9181797504425049 Sec\n",
            "single Data load Execution: 0.9659888744354248 Sec\n"
          ],
          "name": "stdout"
        },
        {
          "output_type": "stream",
          "text": [
            "/content/DeepSeti.py:73: RuntimeWarning: More than 20 figures have been opened. Figures created through the pyplot interface (`matplotlib.pyplot.figure`) are retained until explicitly closed and may consume too much memory. (To control this warning, see the rcParam `figure.max_open_warning`).\n",
            "  fig = plt.figure(figsize=(20, 6))\n",
            "/content/DeepSeti.py:79: RuntimeWarning: More than 20 figures have been opened. Figures created through the pyplot interface (`matplotlib.pyplot.figure`) are retained until explicitly closed and may consume too much memory. (To control this warning, see the rcParam `figure.max_open_warning`).\n",
            "  fig = plt.figure(figsize=(10, 6))\n"
          ],
          "name": "stderr"
        },
        {
          "output_type": "stream",
          "text": [
            "Search time [s]:15.981298923492432\n",
            "Search Execution Complete\n",
            "Time since execution began [Seconds]: 723.4748866558075\n",
            "Downloading 17\n",
            "GBT_57622_29527_HIP114622_mid.h5\n",
            "finished downloading\n",
            "single Data load Execution: 0.8872597217559814 Sec\n",
            "single Data load Execution: 0.9112730026245117 Sec\n"
          ],
          "name": "stdout"
        },
        {
          "output_type": "stream",
          "text": [
            "/content/DeepSeti.py:73: RuntimeWarning: More than 20 figures have been opened. Figures created through the pyplot interface (`matplotlib.pyplot.figure`) are retained until explicitly closed and may consume too much memory. (To control this warning, see the rcParam `figure.max_open_warning`).\n",
            "  fig = plt.figure(figsize=(20, 6))\n",
            "/content/DeepSeti.py:79: RuntimeWarning: More than 20 figures have been opened. Figures created through the pyplot interface (`matplotlib.pyplot.figure`) are retained until explicitly closed and may consume too much memory. (To control this warning, see the rcParam `figure.max_open_warning`).\n",
            "  fig = plt.figure(figsize=(10, 6))\n"
          ],
          "name": "stderr"
        },
        {
          "output_type": "stream",
          "text": [
            "Search time [s]:16.433560132980347\n",
            "Search Execution Complete\n",
            "Time since execution began [Seconds]: 772.0464251041412\n",
            "Downloading 18\n",
            "GBT_57622_29864_HIP113772_mid.h5\n",
            "finished downloading\n",
            "single Data load Execution: 0.9349431991577148 Sec\n",
            "single Data load Execution: 0.9650578498840332 Sec\n"
          ],
          "name": "stdout"
        },
        {
          "output_type": "stream",
          "text": [
            "/content/DeepSeti.py:73: RuntimeWarning: More than 20 figures have been opened. Figures created through the pyplot interface (`matplotlib.pyplot.figure`) are retained until explicitly closed and may consume too much memory. (To control this warning, see the rcParam `figure.max_open_warning`).\n",
            "  fig = plt.figure(figsize=(20, 6))\n",
            "/content/DeepSeti.py:79: RuntimeWarning: More than 20 figures have been opened. Figures created through the pyplot interface (`matplotlib.pyplot.figure`) are retained until explicitly closed and may consume too much memory. (To control this warning, see the rcParam `figure.max_open_warning`).\n",
            "  fig = plt.figure(figsize=(10, 6))\n"
          ],
          "name": "stderr"
        },
        {
          "output_type": "stream",
          "text": [
            "Search time [s]:15.904204368591309\n",
            "Search Execution Complete\n",
            "Time since execution began [Seconds]: 803.4002285003662\n",
            "Downloading 19\n",
            "GBT_57622_30201_HIP114622_mid.h5\n",
            "finished downloading\n",
            "single Data load Execution: 0.920729398727417 Sec\n",
            "single Data load Execution: 0.8950035572052002 Sec\n"
          ],
          "name": "stdout"
        },
        {
          "output_type": "stream",
          "text": [
            "/content/DeepSeti.py:73: RuntimeWarning: More than 20 figures have been opened. Figures created through the pyplot interface (`matplotlib.pyplot.figure`) are retained until explicitly closed and may consume too much memory. (To control this warning, see the rcParam `figure.max_open_warning`).\n",
            "  fig = plt.figure(figsize=(20, 6))\n",
            "/content/DeepSeti.py:79: RuntimeWarning: More than 20 figures have been opened. Figures created through the pyplot interface (`matplotlib.pyplot.figure`) are retained until explicitly closed and may consume too much memory. (To control this warning, see the rcParam `figure.max_open_warning`).\n",
            "  fig = plt.figure(figsize=(10, 6))\n"
          ],
          "name": "stderr"
        },
        {
          "output_type": "stream",
          "text": [
            "Search time [s]:15.9326171875\n",
            "Search Execution Complete\n",
            "Time since execution began [Seconds]: 837.8368678092957\n",
            "Downloading 20\n",
            "GBT_57622_30534_HIP113789_mid.h5\n",
            "finished downloading\n",
            "single Data load Execution: 0.9214859008789062 Sec\n",
            "single Data load Execution: 0.9675083160400391 Sec\n"
          ],
          "name": "stdout"
        },
        {
          "output_type": "stream",
          "text": [
            "/content/DeepSeti.py:73: RuntimeWarning: More than 20 figures have been opened. Figures created through the pyplot interface (`matplotlib.pyplot.figure`) are retained until explicitly closed and may consume too much memory. (To control this warning, see the rcParam `figure.max_open_warning`).\n",
            "  fig = plt.figure(figsize=(20, 6))\n",
            "/content/DeepSeti.py:79: RuntimeWarning: More than 20 figures have been opened. Figures created through the pyplot interface (`matplotlib.pyplot.figure`) are retained until explicitly closed and may consume too much memory. (To control this warning, see the rcParam `figure.max_open_warning`).\n",
            "  fig = plt.figure(figsize=(10, 6))\n"
          ],
          "name": "stderr"
        },
        {
          "output_type": "stream",
          "text": [
            "Search time [s]:15.834722995758057\n",
            "Search Execution Complete\n",
            "Time since execution began [Seconds]: 884.8385553359985\n",
            "Downloading 21\n",
            "GBT_57622_30924_HIP115331_mid.h5\n",
            "finished downloading\n",
            "single Data load Execution: 0.8781206607818604 Sec\n",
            "single Data load Execution: 0.8841955661773682 Sec\n"
          ],
          "name": "stdout"
        },
        {
          "output_type": "stream",
          "text": [
            "/content/DeepSeti.py:73: RuntimeWarning: More than 20 figures have been opened. Figures created through the pyplot interface (`matplotlib.pyplot.figure`) are retained until explicitly closed and may consume too much memory. (To control this warning, see the rcParam `figure.max_open_warning`).\n",
            "  fig = plt.figure(figsize=(20, 6))\n",
            "/content/DeepSeti.py:79: RuntimeWarning: More than 20 figures have been opened. Figures created through the pyplot interface (`matplotlib.pyplot.figure`) are retained until explicitly closed and may consume too much memory. (To control this warning, see the rcParam `figure.max_open_warning`).\n",
            "  fig = plt.figure(figsize=(10, 6))\n"
          ],
          "name": "stderr"
        },
        {
          "output_type": "stream",
          "text": [
            "Search time [s]:15.766731023788452\n",
            "Search Execution Complete\n",
            "Time since execution began [Seconds]: 917.9161429405212\n",
            "Downloading 22\n",
            "GBT_57622_31265_HIP114174_mid.h5\n",
            "finished downloading\n",
            "single Data load Execution: 0.9269890785217285 Sec\n",
            "single Data load Execution: 0.9652562141418457 Sec\n"
          ],
          "name": "stdout"
        },
        {
          "output_type": "stream",
          "text": [
            "/content/DeepSeti.py:73: RuntimeWarning: More than 20 figures have been opened. Figures created through the pyplot interface (`matplotlib.pyplot.figure`) are retained until explicitly closed and may consume too much memory. (To control this warning, see the rcParam `figure.max_open_warning`).\n",
            "  fig = plt.figure(figsize=(20, 6))\n",
            "/content/DeepSeti.py:79: RuntimeWarning: More than 20 figures have been opened. Figures created through the pyplot interface (`matplotlib.pyplot.figure`) are retained until explicitly closed and may consume too much memory. (To control this warning, see the rcParam `figure.max_open_warning`).\n",
            "  fig = plt.figure(figsize=(10, 6))\n"
          ],
          "name": "stderr"
        },
        {
          "output_type": "stream",
          "text": [
            "Search time [s]:15.97826337814331\n",
            "Search Execution Complete\n",
            "Time since execution began [Seconds]: 964.9361860752106\n",
            "Downloading 23\n",
            "GBT_57622_31606_HIP115331_mid.h5\n",
            "finished downloading\n",
            "single Data load Execution: 0.88826584815979 Sec\n",
            "single Data load Execution: 0.9070272445678711 Sec\n"
          ],
          "name": "stdout"
        },
        {
          "output_type": "stream",
          "text": [
            "/content/DeepSeti.py:73: RuntimeWarning: More than 20 figures have been opened. Figures created through the pyplot interface (`matplotlib.pyplot.figure`) are retained until explicitly closed and may consume too much memory. (To control this warning, see the rcParam `figure.max_open_warning`).\n",
            "  fig = plt.figure(figsize=(20, 6))\n",
            "/content/DeepSeti.py:79: RuntimeWarning: More than 20 figures have been opened. Figures created through the pyplot interface (`matplotlib.pyplot.figure`) are retained until explicitly closed and may consume too much memory. (To control this warning, see the rcParam `figure.max_open_warning`).\n",
            "  fig = plt.figure(figsize=(10, 6))\n"
          ],
          "name": "stderr"
        },
        {
          "output_type": "stream",
          "text": [
            "Search time [s]:15.890429258346558\n",
            "Search Execution Complete\n",
            "Time since execution began [Seconds]: 1012.1699817180634\n",
            "Downloading 24\n",
            "GBT_57622_31955_HIP114353_mid.h5\n",
            "finished downloading\n",
            "single Data load Execution: 0.9212563037872314 Sec\n",
            "single Data load Execution: 0.9481642246246338 Sec\n"
          ],
          "name": "stdout"
        },
        {
          "output_type": "stream",
          "text": [
            "/content/DeepSeti.py:73: RuntimeWarning: More than 20 figures have been opened. Figures created through the pyplot interface (`matplotlib.pyplot.figure`) are retained until explicitly closed and may consume too much memory. (To control this warning, see the rcParam `figure.max_open_warning`).\n",
            "  fig = plt.figure(figsize=(20, 6))\n",
            "/content/DeepSeti.py:79: RuntimeWarning: More than 20 figures have been opened. Figures created through the pyplot interface (`matplotlib.pyplot.figure`) are retained until explicitly closed and may consume too much memory. (To control this warning, see the rcParam `figure.max_open_warning`).\n",
            "  fig = plt.figure(figsize=(10, 6))\n"
          ],
          "name": "stderr"
        },
        {
          "output_type": "stream",
          "text": [
            "Search time [s]:15.729712724685669\n",
            "Search Execution Complete\n",
            "Time since execution began [Seconds]: 1058.8654627799988\n",
            "Downloading 25\n",
            "GBT_57622_32304_HIP115331_mid.h5\n",
            "finished downloading\n",
            "single Data load Execution: 0.8931748867034912 Sec\n",
            "single Data load Execution: 0.8775396347045898 Sec\n"
          ],
          "name": "stdout"
        },
        {
          "output_type": "stream",
          "text": [
            "/content/DeepSeti.py:73: RuntimeWarning: More than 20 figures have been opened. Figures created through the pyplot interface (`matplotlib.pyplot.figure`) are retained until explicitly closed and may consume too much memory. (To control this warning, see the rcParam `figure.max_open_warning`).\n",
            "  fig = plt.figure(figsize=(20, 6))\n",
            "/content/DeepSeti.py:79: RuntimeWarning: More than 20 figures have been opened. Figures created through the pyplot interface (`matplotlib.pyplot.figure`) are retained until explicitly closed and may consume too much memory. (To control this warning, see the rcParam `figure.max_open_warning`).\n",
            "  fig = plt.figure(figsize=(10, 6))\n"
          ],
          "name": "stderr"
        },
        {
          "output_type": "stream",
          "text": [
            "Search time [s]:15.834466218948364\n",
            "Search Execution Complete\n",
            "Time since execution began [Seconds]: 1107.104826927185\n",
            "Downloading 26\n",
            "GBT_57622_32646_HIP114441_mid.h5\n",
            "finished downloading\n",
            "single Data load Execution: 0.9246714115142822 Sec\n",
            "single Data load Execution: 0.9506521224975586 Sec\n"
          ],
          "name": "stdout"
        },
        {
          "output_type": "stream",
          "text": [
            "/content/DeepSeti.py:73: RuntimeWarning: More than 20 figures have been opened. Figures created through the pyplot interface (`matplotlib.pyplot.figure`) are retained until explicitly closed and may consume too much memory. (To control this warning, see the rcParam `figure.max_open_warning`).\n",
            "  fig = plt.figure(figsize=(20, 6))\n",
            "/content/DeepSeti.py:79: RuntimeWarning: More than 20 figures have been opened. Figures created through the pyplot interface (`matplotlib.pyplot.figure`) are retained until explicitly closed and may consume too much memory. (To control this warning, see the rcParam `figure.max_open_warning`).\n",
            "  fig = plt.figure(figsize=(10, 6))\n"
          ],
          "name": "stderr"
        },
        {
          "output_type": "stream",
          "text": [
            "Search time [s]:15.771899461746216\n",
            "Search Execution Complete\n",
            "Time since execution began [Seconds]: 1154.9655709266663\n",
            "Downloading 27\n",
            "GBT_57622_33057_HIP544_mid.h5\n",
            "finished downloading\n",
            "single Data load Execution: 0.9053623676300049 Sec\n",
            "single Data load Execution: 0.8863224983215332 Sec\n"
          ],
          "name": "stdout"
        },
        {
          "output_type": "stream",
          "text": [
            "/content/DeepSeti.py:73: RuntimeWarning: More than 20 figures have been opened. Figures created through the pyplot interface (`matplotlib.pyplot.figure`) are retained until explicitly closed and may consume too much memory. (To control this warning, see the rcParam `figure.max_open_warning`).\n",
            "  fig = plt.figure(figsize=(20, 6))\n",
            "/content/DeepSeti.py:79: RuntimeWarning: More than 20 figures have been opened. Figures created through the pyplot interface (`matplotlib.pyplot.figure`) are retained until explicitly closed and may consume too much memory. (To control this warning, see the rcParam `figure.max_open_warning`).\n",
            "  fig = plt.figure(figsize=(10, 6))\n"
          ],
          "name": "stderr"
        },
        {
          "output_type": "stream",
          "text": [
            "Search time [s]:15.873465299606323\n",
            "Search Execution Complete\n",
            "Time since execution began [Seconds]: 1191.3415644168854\n",
            "Downloading 28\n",
            "GBT_57622_33396_HIP1024_mid.h5\n",
            "finished downloading\n",
            "single Data load Execution: 1.0446045398712158 Sec\n",
            "single Data load Execution: 0.944122314453125 Sec\n"
          ],
          "name": "stdout"
        },
        {
          "output_type": "stream",
          "text": [
            "/content/DeepSeti.py:73: RuntimeWarning: More than 20 figures have been opened. Figures created through the pyplot interface (`matplotlib.pyplot.figure`) are retained until explicitly closed and may consume too much memory. (To control this warning, see the rcParam `figure.max_open_warning`).\n",
            "  fig = plt.figure(figsize=(20, 6))\n",
            "/content/DeepSeti.py:79: RuntimeWarning: More than 20 figures have been opened. Figures created through the pyplot interface (`matplotlib.pyplot.figure`) are retained until explicitly closed and may consume too much memory. (To control this warning, see the rcParam `figure.max_open_warning`).\n",
            "  fig = plt.figure(figsize=(10, 6))\n"
          ],
          "name": "stderr"
        },
        {
          "output_type": "stream",
          "text": [
            "Search time [s]:15.908048868179321\n",
            "Search Execution Complete\n",
            "Time since execution began [Seconds]: 1239.073721408844\n",
            "Downloading 29\n",
            "GBT_57622_33734_HIP544_mid.h5\n",
            "finished downloading\n",
            "single Data load Execution: 0.9259974956512451 Sec\n",
            "single Data load Execution: 0.9057178497314453 Sec\n"
          ],
          "name": "stdout"
        },
        {
          "output_type": "stream",
          "text": [
            "/content/DeepSeti.py:73: RuntimeWarning: More than 20 figures have been opened. Figures created through the pyplot interface (`matplotlib.pyplot.figure`) are retained until explicitly closed and may consume too much memory. (To control this warning, see the rcParam `figure.max_open_warning`).\n",
            "  fig = plt.figure(figsize=(20, 6))\n",
            "/content/DeepSeti.py:79: RuntimeWarning: More than 20 figures have been opened. Figures created through the pyplot interface (`matplotlib.pyplot.figure`) are retained until explicitly closed and may consume too much memory. (To control this warning, see the rcParam `figure.max_open_warning`).\n",
            "  fig = plt.figure(figsize=(10, 6))\n"
          ],
          "name": "stderr"
        },
        {
          "output_type": "stream",
          "text": [
            "Search time [s]:16.271844625473022\n",
            "Search Execution Complete\n",
            "Time since execution began [Seconds]: 1287.7129883766174\n",
            "Downloading 30\n",
            "GBT_57622_34076_HIP114_mid.h5\n",
            "finished downloading\n",
            "single Data load Execution: 0.9090256690979004 Sec\n",
            "single Data load Execution: 0.9496383666992188 Sec\n"
          ],
          "name": "stdout"
        },
        {
          "output_type": "stream",
          "text": [
            "/content/DeepSeti.py:73: RuntimeWarning: More than 20 figures have been opened. Figures created through the pyplot interface (`matplotlib.pyplot.figure`) are retained until explicitly closed and may consume too much memory. (To control this warning, see the rcParam `figure.max_open_warning`).\n",
            "  fig = plt.figure(figsize=(20, 6))\n",
            "/content/DeepSeti.py:79: RuntimeWarning: More than 20 figures have been opened. Figures created through the pyplot interface (`matplotlib.pyplot.figure`) are retained until explicitly closed and may consume too much memory. (To control this warning, see the rcParam `figure.max_open_warning`).\n",
            "  fig = plt.figure(figsize=(10, 6))\n"
          ],
          "name": "stderr"
        },
        {
          "output_type": "stream",
          "text": [
            "Search time [s]:15.987775564193726\n",
            "Search Execution Complete\n",
            "Time since execution began [Seconds]: 1335.0922439098358\n",
            "Downloading 31\n",
            "GBT_57622_34417_HIP544_mid.h5\n",
            "finished downloading\n",
            "single Data load Execution: 0.9070620536804199 Sec\n",
            "single Data load Execution: 0.896991491317749 Sec\n"
          ],
          "name": "stdout"
        },
        {
          "output_type": "stream",
          "text": [
            "/content/DeepSeti.py:73: RuntimeWarning: More than 20 figures have been opened. Figures created through the pyplot interface (`matplotlib.pyplot.figure`) are retained until explicitly closed and may consume too much memory. (To control this warning, see the rcParam `figure.max_open_warning`).\n",
            "  fig = plt.figure(figsize=(20, 6))\n",
            "/content/DeepSeti.py:79: RuntimeWarning: More than 20 figures have been opened. Figures created through the pyplot interface (`matplotlib.pyplot.figure`) are retained until explicitly closed and may consume too much memory. (To control this warning, see the rcParam `figure.max_open_warning`).\n",
            "  fig = plt.figure(figsize=(10, 6))\n"
          ],
          "name": "stderr"
        },
        {
          "output_type": "stream",
          "text": [
            "Search time [s]:15.906809568405151\n",
            "Search Execution Complete\n",
            "Time since execution began [Seconds]: 1381.7745792865753\n",
            "Downloading 32\n",
            "GBT_57622_34759_HIP1344_mid.h5\n",
            "finished downloading\n",
            "single Data load Execution: 0.9340758323669434 Sec\n",
            "single Data load Execution: 0.9422235488891602 Sec\n"
          ],
          "name": "stdout"
        },
        {
          "output_type": "stream",
          "text": [
            "/content/DeepSeti.py:73: RuntimeWarning: More than 20 figures have been opened. Figures created through the pyplot interface (`matplotlib.pyplot.figure`) are retained until explicitly closed and may consume too much memory. (To control this warning, see the rcParam `figure.max_open_warning`).\n",
            "  fig = plt.figure(figsize=(20, 6))\n",
            "/content/DeepSeti.py:79: RuntimeWarning: More than 20 figures have been opened. Figures created through the pyplot interface (`matplotlib.pyplot.figure`) are retained until explicitly closed and may consume too much memory. (To control this warning, see the rcParam `figure.max_open_warning`).\n",
            "  fig = plt.figure(figsize=(10, 6))\n"
          ],
          "name": "stderr"
        },
        {
          "output_type": "stream",
          "text": [
            "Search time [s]:15.893006563186646\n",
            "Search Execution Complete\n",
            "Time since execution began [Seconds]: 1428.4545788764954\n",
            "Downloading 33\n",
            "GBT_57622_35153_HIP5957_mid.h5\n",
            "finished downloading\n",
            "single Data load Execution: 0.8810036182403564 Sec\n",
            "single Data load Execution: 0.8892276287078857 Sec\n"
          ],
          "name": "stdout"
        },
        {
          "output_type": "stream",
          "text": [
            "/content/DeepSeti.py:73: RuntimeWarning: More than 20 figures have been opened. Figures created through the pyplot interface (`matplotlib.pyplot.figure`) are retained until explicitly closed and may consume too much memory. (To control this warning, see the rcParam `figure.max_open_warning`).\n",
            "  fig = plt.figure(figsize=(20, 6))\n",
            "/content/DeepSeti.py:79: RuntimeWarning: More than 20 figures have been opened. Figures created through the pyplot interface (`matplotlib.pyplot.figure`) are retained until explicitly closed and may consume too much memory. (To control this warning, see the rcParam `figure.max_open_warning`).\n",
            "  fig = plt.figure(figsize=(10, 6))\n"
          ],
          "name": "stderr"
        },
        {
          "output_type": "stream",
          "text": [
            "Search time [s]:15.764786958694458\n",
            "Search Execution Complete\n",
            "Time since execution began [Seconds]: 1476.0995638370514\n",
            "Downloading 34\n",
            "GBT_57622_35509_HIP4868_mid.h5\n",
            "finished downloading\n",
            "single Data load Execution: 0.910625696182251 Sec\n",
            "single Data load Execution: 0.9623053073883057 Sec\n"
          ],
          "name": "stdout"
        },
        {
          "output_type": "stream",
          "text": [
            "/content/DeepSeti.py:73: RuntimeWarning: More than 20 figures have been opened. Figures created through the pyplot interface (`matplotlib.pyplot.figure`) are retained until explicitly closed and may consume too much memory. (To control this warning, see the rcParam `figure.max_open_warning`).\n",
            "  fig = plt.figure(figsize=(20, 6))\n",
            "/content/DeepSeti.py:79: RuntimeWarning: More than 20 figures have been opened. Figures created through the pyplot interface (`matplotlib.pyplot.figure`) are retained until explicitly closed and may consume too much memory. (To control this warning, see the rcParam `figure.max_open_warning`).\n",
            "  fig = plt.figure(figsize=(10, 6))\n"
          ],
          "name": "stderr"
        },
        {
          "output_type": "stream",
          "text": [
            "Search time [s]:15.915970802307129\n",
            "Search Execution Complete\n",
            "Time since execution began [Seconds]: 1523.3533096313477\n",
            "Downloading 35\n",
            "GBT_57622_35864_HIP5957_mid.h5\n",
            "finished downloading\n",
            "single Data load Execution: 0.8807699680328369 Sec\n",
            "single Data load Execution: 0.8847758769989014 Sec\n"
          ],
          "name": "stdout"
        },
        {
          "output_type": "stream",
          "text": [
            "/content/DeepSeti.py:73: RuntimeWarning: More than 20 figures have been opened. Figures created through the pyplot interface (`matplotlib.pyplot.figure`) are retained until explicitly closed and may consume too much memory. (To control this warning, see the rcParam `figure.max_open_warning`).\n",
            "  fig = plt.figure(figsize=(20, 6))\n",
            "/content/DeepSeti.py:79: RuntimeWarning: More than 20 figures have been opened. Figures created through the pyplot interface (`matplotlib.pyplot.figure`) are retained until explicitly closed and may consume too much memory. (To control this warning, see the rcParam `figure.max_open_warning`).\n",
            "  fig = plt.figure(figsize=(10, 6))\n"
          ],
          "name": "stderr"
        },
        {
          "output_type": "stream",
          "text": [
            "Search time [s]:15.755393981933594\n",
            "Search Execution Complete\n",
            "Time since execution began [Seconds]: 1555.202119588852\n",
            "Downloading 36\n",
            "GBT_57622_36219_HIP5339_mid.h5\n",
            "finished downloading\n",
            "single Data load Execution: 0.9185404777526855 Sec\n",
            "single Data load Execution: 0.9487287998199463 Sec\n"
          ],
          "name": "stdout"
        },
        {
          "output_type": "stream",
          "text": [
            "/content/DeepSeti.py:73: RuntimeWarning: More than 20 figures have been opened. Figures created through the pyplot interface (`matplotlib.pyplot.figure`) are retained until explicitly closed and may consume too much memory. (To control this warning, see the rcParam `figure.max_open_warning`).\n",
            "  fig = plt.figure(figsize=(20, 6))\n",
            "/content/DeepSeti.py:79: RuntimeWarning: More than 20 figures have been opened. Figures created through the pyplot interface (`matplotlib.pyplot.figure`) are retained until explicitly closed and may consume too much memory. (To control this warning, see the rcParam `figure.max_open_warning`).\n",
            "  fig = plt.figure(figsize=(10, 6))\n"
          ],
          "name": "stderr"
        },
        {
          "output_type": "stream",
          "text": [
            "Search time [s]:16.252099990844727\n",
            "Search Execution Complete\n",
            "Time since execution began [Seconds]: 1589.273554801941\n",
            "Downloading 37\n",
            "GBT_57622_36574_HIP5957_mid.h5\n",
            "finished downloading\n",
            "single Data load Execution: 0.9187459945678711 Sec\n",
            "single Data load Execution: 0.9237852096557617 Sec\n"
          ],
          "name": "stdout"
        },
        {
          "output_type": "stream",
          "text": [
            "/content/DeepSeti.py:73: RuntimeWarning: More than 20 figures have been opened. Figures created through the pyplot interface (`matplotlib.pyplot.figure`) are retained until explicitly closed and may consume too much memory. (To control this warning, see the rcParam `figure.max_open_warning`).\n",
            "  fig = plt.figure(figsize=(20, 6))\n",
            "/content/DeepSeti.py:79: RuntimeWarning: More than 20 figures have been opened. Figures created through the pyplot interface (`matplotlib.pyplot.figure`) are retained until explicitly closed and may consume too much memory. (To control this warning, see the rcParam `figure.max_open_warning`).\n",
            "  fig = plt.figure(figsize=(10, 6))\n"
          ],
          "name": "stderr"
        },
        {
          "output_type": "stream",
          "text": [
            "Search time [s]:16.538678646087646\n",
            "Search Execution Complete\n",
            "Time since execution began [Seconds]: 1638.4447004795074\n",
            "Downloading 38\n",
            "GBT_57622_36926_HIP5469_mid.h5\n",
            "finished downloading\n",
            "single Data load Execution: 0.9316623210906982 Sec\n",
            "single Data load Execution: 0.962153434753418 Sec\n"
          ],
          "name": "stdout"
        },
        {
          "output_type": "stream",
          "text": [
            "/content/DeepSeti.py:73: RuntimeWarning: More than 20 figures have been opened. Figures created through the pyplot interface (`matplotlib.pyplot.figure`) are retained until explicitly closed and may consume too much memory. (To control this warning, see the rcParam `figure.max_open_warning`).\n",
            "  fig = plt.figure(figsize=(20, 6))\n",
            "/content/DeepSeti.py:79: RuntimeWarning: More than 20 figures have been opened. Figures created through the pyplot interface (`matplotlib.pyplot.figure`) are retained until explicitly closed and may consume too much memory. (To control this warning, see the rcParam `figure.max_open_warning`).\n",
            "  fig = plt.figure(figsize=(10, 6))\n"
          ],
          "name": "stderr"
        },
        {
          "output_type": "stream",
          "text": [
            "Search time [s]:16.4970064163208\n",
            "Search Execution Complete\n",
            "Time since execution began [Seconds]: 1673.0746200084686\n",
            "Downloading 39\n",
            "GBT_57622_37293_HIP677_mid.h5\n",
            "finished downloading\n",
            "single Data load Execution: 0.923351526260376 Sec\n",
            "single Data load Execution: 0.9526753425598145 Sec\n"
          ],
          "name": "stdout"
        },
        {
          "output_type": "stream",
          "text": [
            "/content/DeepSeti.py:73: RuntimeWarning: More than 20 figures have been opened. Figures created through the pyplot interface (`matplotlib.pyplot.figure`) are retained until explicitly closed and may consume too much memory. (To control this warning, see the rcParam `figure.max_open_warning`).\n",
            "  fig = plt.figure(figsize=(20, 6))\n",
            "/content/DeepSeti.py:79: RuntimeWarning: More than 20 figures have been opened. Figures created through the pyplot interface (`matplotlib.pyplot.figure`) are retained until explicitly closed and may consume too much memory. (To control this warning, see the rcParam `figure.max_open_warning`).\n",
            "  fig = plt.figure(figsize=(10, 6))\n"
          ],
          "name": "stderr"
        },
        {
          "output_type": "stream",
          "text": [
            "Search time [s]:16.59439206123352\n",
            "Search Execution Complete\n",
            "Time since execution began [Seconds]: 1720.5609073638916\n",
            "Downloading 40\n",
            "GBT_57622_37629_HIP1024_mid.h5\n",
            "finished downloading\n",
            "single Data load Execution: 0.9194872379302979 Sec\n",
            "single Data load Execution: 0.9565913677215576 Sec\n"
          ],
          "name": "stdout"
        },
        {
          "output_type": "stream",
          "text": [
            "/content/DeepSeti.py:73: RuntimeWarning: More than 20 figures have been opened. Figures created through the pyplot interface (`matplotlib.pyplot.figure`) are retained until explicitly closed and may consume too much memory. (To control this warning, see the rcParam `figure.max_open_warning`).\n",
            "  fig = plt.figure(figsize=(20, 6))\n",
            "/content/DeepSeti.py:79: RuntimeWarning: More than 20 figures have been opened. Figures created through the pyplot interface (`matplotlib.pyplot.figure`) are retained until explicitly closed and may consume too much memory. (To control this warning, see the rcParam `figure.max_open_warning`).\n",
            "  fig = plt.figure(figsize=(10, 6))\n"
          ],
          "name": "stderr"
        },
        {
          "output_type": "stream",
          "text": [
            "Search time [s]:16.197218418121338\n",
            "Search Execution Complete\n",
            "Time since execution began [Seconds]: 1768.2527644634247\n",
            "Downloading 41\n",
            "GBT_57622_37964_HIP677_mid.h5\n",
            "finished downloading\n"
          ],
          "name": "stdout"
        }
      ]
    }
  ]
}